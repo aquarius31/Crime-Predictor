{
  "nbformat": 4,
  "nbformat_minor": 0,
  "metadata": {
    "colab": {
      "name": "Decision Tree Final.ipynb",
      "version": "0.3.2",
      "provenance": [],
      "include_colab_link": true
    },
    "kernelspec": {
      "name": "python3",
      "display_name": "Python 3"
    },
    "accelerator": "TPU"
  },
  "cells": [
    {
      "cell_type": "markdown",
      "metadata": {
        "id": "view-in-github",
        "colab_type": "text"
      },
      "source": [
        "<a href=\"https://colab.research.google.com/github/aquarius31/Crime-Predictor/blob/master/Decision_Tree_Final.ipynb\" target=\"_parent\"><img src=\"https://colab.research.google.com/assets/colab-badge.svg\" alt=\"Open In Colab\"/></a>"
      ]
    },
    {
      "metadata": {
        "id": "jnlGtZOjD7Hj",
        "colab_type": "code",
        "outputId": "42b1aa3e-a491-40af-9669-eec81e53f3fe",
        "colab": {
          "base_uri": "https://localhost:8080/",
          "height": 34
        }
      },
      "cell_type": "code",
      "source": [
        "%pylab inline"
      ],
      "execution_count": 0,
      "outputs": [
        {
          "output_type": "stream",
          "text": [
            "Populating the interactive namespace from numpy and matplotlib\n"
          ],
          "name": "stdout"
        }
      ]
    },
    {
      "metadata": {
        "id": "euiBUkO9FYp6",
        "colab_type": "code",
        "outputId": "d34a2d65-1c5d-4fb1-a7d0-b4e0daed4e9e",
        "colab": {
          "base_uri": "https://localhost:8080/",
          "height": 34
        }
      },
      "cell_type": "code",
      "source": [
        "import pandas as pd\n",
        "import numpy as np\n",
        "import matplotlib.pyplot as plt\n",
        "from sklearn.model_selection import train_test_split\n",
        "from sklearn import model_selection\n",
        "from sklearn.model_selection import GridSearchCV\n",
        "from sklearn import tree\n",
        "from sklearn.model_selection import cross_val_score\n",
        "import pydotplus\n",
        "from IPython.display import Image \n",
        "from google.colab import drive\n",
        "drive.mount(\"/content/gdrive\", force_remount=True)"
      ],
      "execution_count": 0,
      "outputs": [
        {
          "output_type": "stream",
          "text": [
            "Mounted at /content/gdrive\n"
          ],
          "name": "stdout"
        }
      ]
    },
    {
      "metadata": {
        "id": "U1NSXOlvFlQa",
        "colab_type": "code",
        "colab": {}
      },
      "cell_type": "code",
      "source": [
        "# Read the dataset\n",
        "crimes_stacked = pd.read_csv('gdrive/My Drive/Crime Predictor/crimes_stacked.csv', index_col=None)"
      ],
      "execution_count": 0,
      "outputs": []
    },
    {
      "metadata": {
        "id": "Rb503i16F_wj",
        "colab_type": "code",
        "colab": {}
      },
      "cell_type": "code",
      "source": [
        "# Get rid of useless columns\n",
        "X = crimes_stacked[['Arrest', 'Domestic', 'Beat', 'Community Area',\n",
        "                   'Latitude', 'Longitude', 'Year', 'Hour', 'Closest police station']]\n",
        "# Extract the target feature\n",
        "y = crimes_stacked['Primary Type']"
      ],
      "execution_count": 0,
      "outputs": []
    },
    {
      "metadata": {
        "id": "kL9oYQD7GaGi",
        "colab_type": "code",
        "colab": {}
      },
      "cell_type": "code",
      "source": [
        "# Converting into dummy features for scikit-learn\n",
        "# X = pd.get_dummies(X, prefix='is_') \n",
        "# Fill Nan with 0\n",
        "X = X.fillna(0)\n",
        "# Gather column names\n",
        "feature_names = list(X)\n",
        "target_names = list(y)"
      ],
      "execution_count": 0,
      "outputs": []
    },
    {
      "metadata": {
        "id": "cvzQZtlpGkvM",
        "colab_type": "code",
        "colab": {}
      },
      "cell_type": "code",
      "source": [
        "# Separate data into training and testing datasets\n",
        "seed = 42\n",
        "X_train, X_test, y_train, y_test = train_test_split(X, y, test_size=0.33, random_state=seed)"
      ],
      "execution_count": 0,
      "outputs": []
    },
    {
      "metadata": {
        "id": "CBHKB7upGnED",
        "colab_type": "code",
        "outputId": "c8538921-d7f9-4736-8440-abe5880afb44",
        "colab": {
          "base_uri": "https://localhost:8080/",
          "height": 119
        }
      },
      "cell_type": "code",
      "source": [
        "# Parameters to be tested\n",
        "parameters = {'criterion':['gini', 'entropy'], 'max_depth':[None, 2, 3]}\n",
        "# Use grid search with 3 K-Fold to find the best parameters\n",
        "scoring = 'accuracy'\n",
        "kfold = model_selection.KFold(n_splits=3, random_state=seed)\n",
        "# Comparison\n",
        "dt = tree.DecisionTreeClassifier()\n",
        "clf = GridSearchCV(dt, parameters, cv=kfold, scoring=scoring)\n",
        "clf.fit(X_train, y_train)\n",
        "print(\"Best estimator: \", clf.best_estimator_)"
      ],
      "execution_count": 0,
      "outputs": [
        {
          "output_type": "stream",
          "text": [
            "Best estimator:  DecisionTreeClassifier(class_weight=None, criterion='gini', max_depth=None,\n",
            "            max_features=None, max_leaf_nodes=None,\n",
            "            min_impurity_decrease=0.0, min_impurity_split=None,\n",
            "            min_samples_leaf=1, min_samples_split=2,\n",
            "            min_weight_fraction_leaf=0.0, presort=False, random_state=None,\n",
            "            splitter='best')\n"
          ],
          "name": "stdout"
        }
      ]
    },
    {
      "metadata": {
        "id": "EZ1pl1YVGuZf",
        "colab_type": "code",
        "outputId": "e5fc012a-650c-4b47-c4a5-966e8234e580",
        "colab": {
          "base_uri": "https://localhost:8080/",
          "height": 119
        }
      },
      "cell_type": "code",
      "source": [
        "# Train with the best parameters\n",
        "dt = clf.best_estimator_\n",
        "dt.fit(X_train, y_train)"
      ],
      "execution_count": 0,
      "outputs": [
        {
          "output_type": "execute_result",
          "data": {
            "text/plain": [
              "DecisionTreeClassifier(class_weight=None, criterion='gini', max_depth=None,\n",
              "            max_features=None, max_leaf_nodes=None,\n",
              "            min_impurity_decrease=0.0, min_impurity_split=None,\n",
              "            min_samples_leaf=1, min_samples_split=2,\n",
              "            min_weight_fraction_leaf=0.0, presort=False, random_state=None,\n",
              "            splitter='best')"
            ]
          },
          "metadata": {
            "tags": []
          },
          "execution_count": 8
        }
      ]
    },
    {
      "metadata": {
        "id": "1OAnY7TzSn5A",
        "colab_type": "code",
        "outputId": "7325b4d7-e642-432d-8015-30841cedbf3a",
        "colab": {
          "base_uri": "https://localhost:8080/",
          "height": 187
        }
      },
      "cell_type": "code",
      "source": [
        "importances = dt.feature_importances_\n",
        "std = np.std([importances],\n",
        "             axis=0)\n",
        "indices = np.argsort(importances)[::-1]\n",
        "\n",
        "# Print the feature ranking\n",
        "print(\"Feature ranking:\")\n",
        "\n",
        "importance_to_plot = []\n",
        "for f in range(X.shape[1]):\n",
        "    if(importances[indices[f]]):\n",
        "        importance_to_plot.append(importances[indices[f]])\n",
        "        print(\"%d. feature %s (%f)\" % (f + 1, feature_names[f], importances[indices[f]]))"
      ],
      "execution_count": 0,
      "outputs": [
        {
          "output_type": "stream",
          "text": [
            "Feature ranking:\n",
            "1. feature Arrest (0.201825)\n",
            "2. feature Domestic (0.198337)\n",
            "3. feature Beat (0.187820)\n",
            "4. feature Community Area (0.153025)\n",
            "5. feature Latitude (0.109669)\n",
            "6. feature Longitude (0.051673)\n",
            "7. feature Year (0.046490)\n",
            "8. feature Hour (0.037946)\n",
            "9. feature Closest police station (0.013216)\n"
          ],
          "name": "stdout"
        }
      ]
    },
    {
      "metadata": {
        "id": "SjZXGi25TUKU",
        "colab_type": "code",
        "outputId": "59065712-74ff-493c-efd2-79c9a1f5a00d",
        "colab": {
          "base_uri": "https://localhost:8080/",
          "height": 281
        }
      },
      "cell_type": "code",
      "source": [
        "# Plot the feature importances of the forest\n",
        "plt.figure()\n",
        "plt.title(\"Feature importances\")\n",
        "plt.bar(range(X.shape[1]), importances[indices],\n",
        "       color=\"r\", yerr=std[indices], align=\"center\")\n",
        "plt.xticks(range(X.shape[1]), indices)\n",
        "plt.xlim([-1, len(importance_to_plot)])\n",
        "plt.show()"
      ],
      "execution_count": 0,
      "outputs": [
        {
          "output_type": "display_data",
          "data": {
            "image/png": "[encoded data removed]",
            "text/plain": [
              "<Figure size 432x288 with 1 Axes>"
            ]
          },
          "metadata": {
            "tags": []
          }
        }
      ]
    },
    {
      "metadata": {
        "id": "2It9RCJtTWnI",
        "colab_type": "code",
        "colab": {}
      },
      "cell_type": "code",
      "source": [
        "# Plot and store the decision tree\n",
        "dot_data = tree.export_graphviz(dt, out_file=None, \n",
        "                         feature_names=feature_names,  \n",
        "                         class_names=target_names,  \n",
        "                         filled=True, rounded=True,  \n",
        "                         special_characters=True)  \n",
        "graph = pydotplus.graph_from_dot_data(dot_data) \n",
        "graph.write_pdf(\"DecisionTree.pdf\")\n",
        "Image(graph.create_png()) "
      ],
      "execution_count": 0,
      "outputs": []
    },
    {
      "metadata": {
        "id": "RCSfzFzhTaVG",
        "colab_type": "code",
        "colab": {}
      },
      "cell_type": "code",
      "source": [
        ""
      ],
      "execution_count": 0,
      "outputs": []
    }
  ]
}