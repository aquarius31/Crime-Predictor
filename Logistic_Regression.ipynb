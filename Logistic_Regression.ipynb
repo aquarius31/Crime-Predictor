{
  "nbformat": 4,
  "nbformat_minor": 0,
  "metadata": {
    "colab": {
      "name": "Logistic Regression.ipynb",
      "version": "0.3.2",
      "provenance": [],
      "include_colab_link": true
    },
    "kernelspec": {
      "name": "python3",
      "display_name": "Python 3"
    },
    "accelerator": "TPU"
  },
  "cells": [
    {
      "cell_type": "markdown",
      "metadata": {
        "id": "view-in-github",
        "colab_type": "text"
      },
      "source": [
        "<a href=\"https://colab.research.google.com/github/aquarius31/Crime-Predictor/blob/master/Logistic_Regression.ipynb\" target=\"_parent\"><img src=\"https://colab.research.google.com/assets/colab-badge.svg\" alt=\"Open In Colab\"/></a>"
      ]
    },
    {
      "metadata": {
        "id": "WFt8GXUdNEiH",
        "colab_type": "code",
        "outputId": "24d6aa99-5e70-42be-b164-a8d78cf01083",
        "colab": {
          "base_uri": "https://localhost:8080/",
          "height": 86
        }
      },
      "cell_type": "code",
      "source": [
        "%pylab inline"
      ],
      "execution_count": 0,
      "outputs": [
        {
          "output_type": "stream",
          "text": [
            "Populating the interactive namespace from numpy and matplotlib\n"
          ],
          "name": "stdout"
        },
        {
          "output_type": "stream",
          "text": [
            "/usr/local/lib/python3.6/dist-packages/IPython/core/magics/pylab.py:161: UserWarning: pylab import has clobbered these variables: ['seed', 'clf']\n",
            "`%matplotlib` prevents importing * from pylab and numpy\n",
            "  \"\\n`%matplotlib` prevents importing * from pylab and numpy\"\n"
          ],
          "name": "stderr"
        }
      ]
    },
    {
      "metadata": {
        "id": "BGU-dNCNNJTo",
        "colab_type": "code",
        "outputId": "17e896c0-7e95-4e3f-e047-2a6efabc6fd7",
        "colab": {
          "base_uri": "https://localhost:8080/"
        }
      },
      "cell_type": "code",
      "source": [
        "import pandas as pd\n",
        "import numpy as np\n",
        "import matplotlib.pyplot as plt\n",
        "from sklearn.model_selection import train_test_split\n",
        "from sklearn import model_selection\n",
        "from sklearn.model_selection import GridSearchCV\n",
        "from sklearn import tree\n",
        "from sklearn.model_selection import cross_val_score\n",
        "import pydotplus\n",
        "from IPython.display import Image \n",
        "from google.colab import drive\n",
        "drive.mount(\"/content/gdrive\", force_remount=True)"
      ],
      "execution_count": 0,
      "outputs": [
        {
          "output_type": "stream",
          "text": [
            "Mounted at /content/gdrive\n"
          ],
          "name": "stdout"
        }
      ]
    },
    {
      "metadata": {
        "id": "WICv-FDbNN4u",
        "colab_type": "code",
        "colab": {}
      },
      "cell_type": "code",
      "source": [
        "# Read the dataset\n",
        "crimes_stacked = pd.read_csv('gdrive/My Drive/Crime Predictor/crimes_stacked.csv', index_col=None)"
      ],
      "execution_count": 0,
      "outputs": []
    },
    {
      "metadata": {
        "id": "gPDpr4goNWrI",
        "colab_type": "code",
        "colab": {}
      },
      "cell_type": "code",
      "source": [
        "# Get rid of useless columns\n",
        "X = crimes_stacked[['Arrest', 'Domestic', 'Beat', 'Community Area',\n",
        "                   'Latitude', 'Longitude', 'Year', 'Hour', 'Closest police station']]\n",
        "# Extract the target feature\n",
        "y = crimes_stacked['Primary Type']"
      ],
      "execution_count": 0,
      "outputs": []
    },
    {
      "metadata": {
        "id": "GDfq3_dDNxcG",
        "colab_type": "code",
        "colab": {}
      },
      "cell_type": "code",
      "source": [
        "# Fill Nan with 0\n",
        "X = X.fillna(0)\n",
        "# Gather column names\n",
        "feature_names = list(X)\n",
        "target_names = list(y)"
      ],
      "execution_count": 0,
      "outputs": []
    },
    {
      "metadata": {
        "id": "wzHDj08NNzhP",
        "colab_type": "code",
        "colab": {}
      },
      "cell_type": "code",
      "source": [
        "# Separate data into training and testing datasets\n",
        "from sklearn.model_selection import train_test_split\n",
        "seed = 42\n",
        "X_train, X_test, y_train, y_test = train_test_split(X, y, test_size=0.33, random_state=seed)"
      ],
      "execution_count": 0,
      "outputs": []
    },
    {
      "metadata": {
        "id": "y9e2R_PdN13q",
        "colab_type": "code",
        "colab": {}
      },
      "cell_type": "code",
      "source": [
        "from sklearn.multiclass import OneVsRestClassifier\n",
        "from sklearn.ensemble import AdaBoostClassifier\n",
        "from sklearn.model_selection import cross_val_score\n",
        "from sklearn.linear_model import LogisticRegression"
      ],
      "execution_count": 0,
      "outputs": []
    },
    {
      "metadata": {
        "id": "JO8df0p8n6u2",
        "colab_type": "code",
        "outputId": "fd11011c-3151-49ba-e133-7ab801aafcd9",
        "colab": {
          "base_uri": "https://localhost:8080/",
          "height": 204
        }
      },
      "cell_type": "code",
      "source": [
        "X_train.head()"
      ],
      "execution_count": 0,
      "outputs": [
        {
          "output_type": "execute_result",
          "data": {
            "text/html": [
              "<div>\n",
              "<style scoped>\n",
              "    .dataframe tbody tr th:only-of-type {\n",
              "        vertical-align: middle;\n",
              "    }\n",
              "\n",
              "    .dataframe tbody tr th {\n",
              "        vertical-align: top;\n",
              "    }\n",
              "\n",
              "    .dataframe thead th {\n",
              "        text-align: right;\n",
              "    }\n",
              "</style>\n",
              "<table border=\"1\" class=\"dataframe\">\n",
              "  <thead>\n",
              "    <tr style=\"text-align: right;\">\n",
              "      <th></th>\n",
              "      <th>Arrest</th>\n",
              "      <th>Domestic</th>\n",
              "      <th>Beat</th>\n",
              "      <th>Community Area</th>\n",
              "      <th>Latitude</th>\n",
              "      <th>Longitude</th>\n",
              "      <th>Year</th>\n",
              "      <th>Hour</th>\n",
              "      <th>Closest police station</th>\n",
              "    </tr>\n",
              "  </thead>\n",
              "  <tbody>\n",
              "    <tr>\n",
              "      <th>4065189</th>\n",
              "      <td>False</td>\n",
              "      <td>False</td>\n",
              "      <td>2132</td>\n",
              "      <td>41.0</td>\n",
              "      <td>41.795236</td>\n",
              "      <td>-87.583243</td>\n",
              "      <td>2008.0</td>\n",
              "      <td>13</td>\n",
              "      <td>3.704614</td>\n",
              "    </tr>\n",
              "    <tr>\n",
              "      <th>1988740</th>\n",
              "      <td>False</td>\n",
              "      <td>False</td>\n",
              "      <td>523</td>\n",
              "      <td>53.0</td>\n",
              "      <td>41.671499</td>\n",
              "      <td>-87.639296</td>\n",
              "      <td>2006.0</td>\n",
              "      <td>21</td>\n",
              "      <td>3.284933</td>\n",
              "    </tr>\n",
              "    <tr>\n",
              "      <th>7890129</th>\n",
              "      <td>False</td>\n",
              "      <td>False</td>\n",
              "      <td>2524</td>\n",
              "      <td>22.0</td>\n",
              "      <td>41.928199</td>\n",
              "      <td>-87.722295</td>\n",
              "      <td>2016.0</td>\n",
              "      <td>13</td>\n",
              "      <td>2.200153</td>\n",
              "    </tr>\n",
              "    <tr>\n",
              "      <th>6022207</th>\n",
              "      <td>False</td>\n",
              "      <td>False</td>\n",
              "      <td>612</td>\n",
              "      <td>71.0</td>\n",
              "      <td>41.753133</td>\n",
              "      <td>-87.657031</td>\n",
              "      <td>2010.0</td>\n",
              "      <td>19</td>\n",
              "      <td>1.067049</td>\n",
              "    </tr>\n",
              "    <tr>\n",
              "      <th>4562737</th>\n",
              "      <td>True</td>\n",
              "      <td>False</td>\n",
              "      <td>725</td>\n",
              "      <td>67.0</td>\n",
              "      <td>41.778681</td>\n",
              "      <td>-87.664197</td>\n",
              "      <td>2009.0</td>\n",
              "      <td>18</td>\n",
              "      <td>0.293977</td>\n",
              "    </tr>\n",
              "  </tbody>\n",
              "</table>\n",
              "</div>"
            ],
            "text/plain": [
              "         Arrest  Domestic  Beat  Community Area   Latitude  Longitude    Year  \\\n",
              "4065189   False     False  2132            41.0  41.795236 -87.583243  2008.0   \n",
              "1988740   False     False   523            53.0  41.671499 -87.639296  2006.0   \n",
              "7890129   False     False  2524            22.0  41.928199 -87.722295  2016.0   \n",
              "6022207   False     False   612            71.0  41.753133 -87.657031  2010.0   \n",
              "4562737    True     False   725            67.0  41.778681 -87.664197  2009.0   \n",
              "\n",
              "         Hour  Closest police station  \n",
              "4065189    13                3.704614  \n",
              "1988740    21                3.284933  \n",
              "7890129    13                2.200153  \n",
              "6022207    19                1.067049  \n",
              "4562737    18                0.293977  "
            ]
          },
          "metadata": {
            "tags": []
          },
          "execution_count": 8
        }
      ]
    },
    {
      "metadata": {
        "id": "qECLPrqOm_nj",
        "colab_type": "code",
        "outputId": "6b686f8e-577b-4d97-ee02-728654c46895",
        "colab": {
          "base_uri": "https://localhost:8080/",
          "height": 156
        }
      },
      "cell_type": "code",
      "source": [
        "clf = LogisticRegression()\n",
        "clf.fit(X_train, y_train)"
      ],
      "execution_count": 0,
      "outputs": [
        {
          "output_type": "stream",
          "text": [
            "/usr/local/lib/python3.6/dist-packages/sklearn/linear_model/logistic.py:433: FutureWarning: Default solver will be changed to 'lbfgs' in 0.22. Specify a solver to silence this warning.\n",
            "  FutureWarning)\n",
            "/usr/local/lib/python3.6/dist-packages/sklearn/linear_model/logistic.py:460: FutureWarning: Default multi_class will be changed to 'auto' in 0.22. Specify the multi_class option to silence this warning.\n",
            "  \"this warning.\", FutureWarning)\n"
          ],
          "name": "stderr"
        },
        {
          "output_type": "execute_result",
          "data": {
            "text/plain": [
              "LogisticRegression(C=1.0, class_weight=None, dual=False, fit_intercept=True,\n",
              "          intercept_scaling=1, max_iter=100, multi_class='warn',\n",
              "          n_jobs=None, penalty='l2', random_state=None, solver='warn',\n",
              "          tol=0.0001, verbose=0, warm_start=False)"
            ]
          },
          "metadata": {
            "tags": []
          },
          "execution_count": 9
        }
      ]
    },
    {
      "metadata": {
        "id": "DA8ziHHZN4-f",
        "colab_type": "code",
        "outputId": "495828d8-da10-454c-b598-f3de9edff899",
        "colab": {
          "base_uri": "https://localhost:8080/",
          "height": 139
        }
      },
      "cell_type": "code",
      "source": [
        "results = cross_val_score(clf, X, y, cv=3)\n",
        "print(\"Accuracy: %.3f%% (%.3f%%)\") % (results.mean()*100.0, results.std()*100.0)"
      ],
      "execution_count": 0,
      "outputs": [
        {
          "output_type": "stream",
          "text": [
            "/usr/local/lib/python3.6/dist-packages/sklearn/model_selection/_split.py:652: Warning: The least populated class in y has only 2 members, which is too few. The minimum number of members in any class cannot be less than n_splits=3.\n",
            "  % (min_groups, self.n_splits)), Warning)\n",
            "/usr/local/lib/python3.6/dist-packages/sklearn/linear_model/logistic.py:433: FutureWarning: Default solver will be changed to 'lbfgs' in 0.22. Specify a solver to silence this warning.\n",
            "  FutureWarning)\n",
            "/usr/local/lib/python3.6/dist-packages/sklearn/linear_model/logistic.py:460: FutureWarning: Default multi_class will be changed to 'auto' in 0.22. Specify the multi_class option to silence this warning.\n",
            "  \"this warning.\", FutureWarning)\n"
          ],
          "name": "stderr"
        }
      ]
    },
    {
      "metadata": {
        "id": "V2vL-V1Srnn1",
        "colab_type": "code",
        "colab": {}
      },
      "cell_type": "code",
      "source": [
        ""
      ],
      "execution_count": 0,
      "outputs": []
    }
  ]
}