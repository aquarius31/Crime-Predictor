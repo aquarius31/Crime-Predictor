{
  "nbformat": 4,
  "nbformat_minor": 0,
  "metadata": {
    "colab": {
      "name": "Multi Layer Perceptron.ipynb",
      "version": "0.3.2",
      "provenance": [],
      "collapsed_sections": [],
      "include_colab_link": true
    },
    "kernelspec": {
      "name": "python3",
      "display_name": "Python 3"
    },
    "accelerator": "GPU"
  },
  "cells": [
    {
      "cell_type": "markdown",
      "metadata": {
        "id": "view-in-github",
        "colab_type": "text"
      },
      "source": [
        "<a href=\"https://colab.research.google.com/github/aquarius31/Crime-Predictor/blob/master/Multi_Layer_Perceptron.ipynb\" target=\"_parent\"><img src=\"https://colab.research.google.com/assets/colab-badge.svg\" alt=\"Open In Colab\"/></a>"
      ]
    },
    {
      "metadata": {
        "id": "1Ba0xpg6BZMe",
        "colab_type": "code",
        "outputId": "6a8d5097-ff5d-4663-f1ba-c43de7393f20",
        "colab": {
          "base_uri": "https://localhost:8080/",
          "height": 34
        }
      },
      "cell_type": "code",
      "source": [
        "%pylab inline"
      ],
      "execution_count": 0,
      "outputs": [
        {
          "output_type": "stream",
          "text": [
            "Populating the interactive namespace from numpy and matplotlib\n"
          ],
          "name": "stdout"
        }
      ]
    },
    {
      "metadata": {
        "id": "WA5sm9e1Bdqh",
        "colab_type": "code",
        "colab": {}
      },
      "cell_type": "code",
      "source": [
        "import numpy as np\n",
        "import pandas as pd\n",
        "from sklearn.preprocessing import StandardScaler   \n",
        "from sklearn.model_selection import train_test_split\n",
        "from sklearn import model_selection\n",
        "from sklearn.neural_network import MLPClassifier\n",
        "from sklearn.model_selection import GridSearchCV\n",
        "from sklearn.model_selection import cross_val_score"
      ],
      "execution_count": 0,
      "outputs": []
    },
    {
      "metadata": {
        "id": "0rpoZ9HfBmnD",
        "colab_type": "code",
        "outputId": "805d3e0a-6b0a-4f1d-c2eb-70cd0ce6e9e0",
        "colab": {
          "base_uri": "https://localhost:8080/",
          "height": 34
        }
      },
      "cell_type": "code",
      "source": [
        "from google.colab import drive\n",
        "drive.mount(\"/content/gdrive\", force_remount=True)"
      ],
      "execution_count": 0,
      "outputs": [
        {
          "output_type": "stream",
          "text": [
            "Mounted at /content/gdrive\n"
          ],
          "name": "stdout"
        }
      ]
    },
    {
      "metadata": {
        "id": "pxZ-sHTCBqgb",
        "colab_type": "code",
        "colab": {}
      },
      "cell_type": "code",
      "source": [
        "# Read the dataset\n",
        "crimes_stacked = pd.read_csv('gdrive/My Drive/Crime Predictor/crimes_stacked.csv', index_col=None)"
      ],
      "execution_count": 0,
      "outputs": []
    },
    {
      "metadata": {
        "id": "Fj7akM9lBt2T",
        "colab_type": "code",
        "colab": {}
      },
      "cell_type": "code",
      "source": [
        "# Get rid of useless columns\n",
        "X = crimes_stacked[['Arrest', 'Domestic', 'Beat', 'Community Area',\n",
        "                   'Latitude', 'Longitude', 'Year', 'Hour', 'Closest police station']]\n",
        "# Extract the target feature\n",
        "y = crimes_stacked['Primary Type']"
      ],
      "execution_count": 0,
      "outputs": []
    },
    {
      "metadata": {
        "id": "cpWbQ_noB5z3",
        "colab_type": "code",
        "colab": {}
      },
      "cell_type": "code",
      "source": [
        "# Fill Nan with 0\n",
        "X = X.fillna(0)\n",
        "# Gather column names\n",
        "feature_names = list(X)\n",
        "target_names = list(y)"
      ],
      "execution_count": 0,
      "outputs": []
    },
    {
      "metadata": {
        "id": "1zensZ6GB6VS",
        "colab_type": "code",
        "outputId": "6c48ff5e-7af0-4f6b-82e1-27ce416832fa",
        "colab": {
          "base_uri": "https://localhost:8080/",
          "height": 51
        }
      },
      "cell_type": "code",
      "source": [
        "from sklearn.preprocessing import MinMaxScaler\n",
        "# Separate data into training and testing datasets\n",
        "X = MinMaxScaler().fit_transform(X)\n",
        "seed = 42\n",
        "X_train, X_test, y_train, y_test = train_test_split(X, y, test_size=0.33, random_state=seed)\n",
        "# Rescale the data\n",
        "scaler = StandardScaler()\n",
        "scaler.fit(X_train)  \n",
        "X_train = scaler.transform(X_train)  \n",
        "X_test = scaler.transform(X_test)"
      ],
      "execution_count": 0,
      "outputs": [
        {
          "output_type": "stream",
          "text": [
            "/usr/local/lib/python3.6/dist-packages/sklearn/preprocessing/data.py:334: DataConversionWarning: Data with input dtype bool, int64, float64 were all converted to float64 by MinMaxScaler.\n",
            "  return self.partial_fit(X, y)\n"
          ],
          "name": "stderr"
        }
      ]
    },
    {
      "metadata": {
        "id": "dpQyregrB9J4",
        "colab_type": "code",
        "outputId": "8a4ef908-fdeb-4049-f9a7-e31d9ae4f096",
        "colab": {
          "base_uri": "https://localhost:8080/",
          "height": 34
        }
      },
      "cell_type": "code",
      "source": [
        "# Use grid search with 3 K-Fold to find the best parameters\n",
        "scoring = 'accuracy'\n",
        "kfold = model_selection.KFold(n_splits=3, random_state=seed)\n",
        "# Parameters to be tested\n",
        "parameters = {'activation':['logistic', 'tanh', 'relu'],\n",
        "              'hidden_layer_sizes':[(50, 15), (25, 10), (10, 5)],\n",
        "              'solver':['sgd', 'adam'], \n",
        "              'learning_rate_init':[0.001, 0.01]}\n",
        "# Comparison\n",
        "mlp = MLPClassifier()\n",
        "clf = GridSearchCV(mlp, parameters, cv=kfold)\n",
        "print(\"kFold Done\")\n",
        "clf.fit(X_train, y_train)\n",
        "print(\"Fitted\")\n",
        "print(\"Best estimator: \", clf.best_estimator_)"
      ],
      "execution_count": 0,
      "outputs": [
        {
          "output_type": "stream",
          "text": [
            "kFold Done\n"
          ],
          "name": "stdout"
        }
      ]
    },
    {
      "metadata": {
        "id": "n2s82FZ9CBv3",
        "colab_type": "code",
        "colab": {}
      },
      "cell_type": "code",
      "source": [
        "# Train with the best parameters\n",
        "mlp = clf.best_estimator_\n",
        "mlp.fit(X_train, y_train)"
      ],
      "execution_count": 0,
      "outputs": []
    },
    {
      "metadata": {
        "id": "m5nfXpwmCCV7",
        "colab_type": "code",
        "colab": {}
      },
      "cell_type": "code",
      "source": [
        "results = cross_val_score(dt, X, y)\n",
        "print(\"Accuracy: %.3f%% (%.3f%%)\") % (results.mean()*100.0, results.std()*100.0)"
      ],
      "execution_count": 0,
      "outputs": []
    },
    {
      "metadata": {
        "id": "lbupSf3RCEhk",
        "colab_type": "code",
        "colab": {}
      },
      "cell_type": "code",
      "source": [
        "print(\"Current loss:\", mlp.loss_)"
      ],
      "execution_count": 0,
      "outputs": []
    },
    {
      "metadata": {
        "id": "7Hza0D5PCHCz",
        "colab_type": "code",
        "colab": {}
      },
      "cell_type": "code",
      "source": [
        ""
      ],
      "execution_count": 0,
      "outputs": []
    }
  ]
}